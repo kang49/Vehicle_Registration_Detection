{
 "cells": [
  {
   "cell_type": "code",
   "execution_count": 5,
   "metadata": {},
   "outputs": [],
   "source": [
    "import cv2\n",
    "import numpy as np"
   ]
  },
  {
   "cell_type": "code",
   "execution_count": 6,
   "metadata": {},
   "outputs": [],
   "source": [
    "# setting\n",
    "colorGreen = (0, 255, 0)\n",
    "scale = 0.75\n",
    "img_size = (320,320)\n",
    "confThreshold = 0.5\n",
    "nmsThreshold = 0.4"
   ]
  },
  {
   "cell_type": "code",
   "execution_count": 7,
   "metadata": {},
   "outputs": [],
   "source": [
    "# Video input\n",
    "# cap = cv2.VideoCapture(0) #camera input\n",
    "\n",
    "# if (cap.isOpened() == False):\n",
    "#     print(\"Error opening video stream or file\")\n",
    "\n",
    "cap = cv2.VideoCapture('/Users/kancode/Desktop/Vehicle_Registration_Detection/3e6fb758869a42c6a173e8a5af229ad1.MOV') # video file input\n",
    "\n",
    "classFile = \"./v4/coco.names\"\n",
    "classNames = []\n",
    "with open(classFile, 'r') as f:\n",
    "    classNames = [line.strip() for line in f.readlines()]\n",
    "\n",
    "modelConfiguration = \"./v4/yolov4.cfg\"\n",
    "modelWeights = \"./v4/yolov4.weights\"\n"
   ]
  },
  {
   "cell_type": "code",
   "execution_count": 8,
   "metadata": {},
   "outputs": [
    {
     "ename": "IndexError",
     "evalue": "invalid index to scalar variable.",
     "output_type": "error",
     "traceback": [
      "\u001b[0;31m---------------------------------------------------------------------------\u001b[0m",
      "\u001b[0;31mIndexError\u001b[0m                                Traceback (most recent call last)",
      "Cell \u001b[0;32mIn [8], line 41\u001b[0m\n\u001b[1;32m     39\u001b[0m net\u001b[39m.\u001b[39msetInput(blob)\n\u001b[1;32m     40\u001b[0m outputs \u001b[39m=\u001b[39m net\u001b[39m.\u001b[39mforward(outputNames)\n\u001b[0;32m---> 41\u001b[0m locateObjects(outputs,img) \u001b[39m#เขียนกรอบ\u001b[39;00m\n\u001b[1;32m     43\u001b[0m cv2\u001b[39m.\u001b[39mimshow(\u001b[39m\"\u001b[39m\u001b[39mImage\u001b[39m\u001b[39m\"\u001b[39m, img)\n\u001b[1;32m     44\u001b[0m \u001b[39mif\u001b[39;00m cv2\u001b[39m.\u001b[39mwaitKey(\u001b[39m1\u001b[39m) \u001b[39m==\u001b[39m \u001b[39m27\u001b[39m:\n",
      "Cell \u001b[0;32mIn [8], line 26\u001b[0m, in \u001b[0;36mlocateObjects\u001b[0;34m(outputs, img)\u001b[0m\n\u001b[1;32m     24\u001b[0m indices \u001b[39m=\u001b[39m cv2\u001b[39m.\u001b[39mdnn\u001b[39m.\u001b[39mNMSBoxes(bbox, confs, confThreshold, nmsThreshold)\n\u001b[1;32m     25\u001b[0m \u001b[39mfor\u001b[39;00m i \u001b[39min\u001b[39;00m indices:\n\u001b[0;32m---> 26\u001b[0m     i \u001b[39m=\u001b[39m i[i\u001b[39m-\u001b[39;49m\u001b[39m1\u001b[39;49m]\n\u001b[1;32m     27\u001b[0m     box \u001b[39m=\u001b[39m bbox[i]\n\u001b[1;32m     28\u001b[0m     x, y, w, h \u001b[39m=\u001b[39m box[\u001b[39m0\u001b[39m], box[\u001b[39m1\u001b[39m], box[\u001b[39m2\u001b[39m], box[\u001b[39m3\u001b[39m]\n",
      "\u001b[0;31mIndexError\u001b[0m: invalid index to scalar variable."
     ]
    }
   ],
   "source": [
    "#เขียนกรอบ\n",
    "net = cv2.dnn.readNetFromDarknet(modelConfiguration, modelWeights)\n",
    "layersNames = net.getLayerNames()\n",
    "outputNames = [layersNames[i-1] for i in net.getUnconnectedOutLayers()]\n",
    "\n",
    "\n",
    "def locateObjects(outputs,img):\n",
    "    hT, wT, cT = img.shape\n",
    "    bbox = []\n",
    "    classIds = []\n",
    "    confs = []\n",
    "\n",
    "    for output in outputs:\n",
    "        for det in output:\n",
    "            scores = det[5:]\n",
    "            classId = np.argmax(scores)\n",
    "            confidence = scores[classId]\n",
    "            if confidence > confThreshold:\n",
    "                w, h = int(det[2] * wT-200), int(det[3] * hT)\n",
    "                x, y = int((det[0] * wT) - w / 2), int((det[1] * hT) - h / 2)\n",
    "                bbox.append([x, y, w, h])\n",
    "                classIds.append(classId)\n",
    "                confs.append(float(confidence))\n",
    "    indices = cv2.dnn.NMSBoxes(bbox, confs, confThreshold, nmsThreshold)\n",
    "    for i in indices:\n",
    "        i = i[0]\n",
    "        box = bbox[i]\n",
    "        x, y, w, h = box[0], box[1], box[2], box[3]\n",
    "        cv2.rectangle(img, (x, y), (x + w, y + h), colorGreen, 2)\n",
    "        label = str(classNames[classIds[i]])\n",
    "        label = '{}: {:.1f}%'.format(label, confs[i]*100)\n",
    "        cv2.putText(img, label, (x, y - 8), cv2.FONT_HERSHEY_SIMPLEX, 0.6, colorGreen, 2)\n",
    "\n",
    "#main Loop\n",
    "while (cap.isOpened()):\n",
    "    success, img = cap.read()\n",
    "    img = cv2.resize(img, None, fx=scale, fy=scale, interpolation=cv2.INTER_AREA) #resize not important\n",
    "    blob = cv2.dnn.blobFromImage(img, 0.00392, img_size, [0, 0, 0], crop=False) #1/255 is .00392\n",
    "    net.setInput(blob)\n",
    "    outputs = net.forward(outputNames)\n",
    "    locateObjects(outputs,img) #เขียนกรอบ\n",
    "    \n",
    "    cv2.imshow(\"Image\", img)\n",
    "    if cv2.waitKey(1) == 27:\n",
    "        break\n",
    "\n",
    "cap.release() # ปิดการใช้งานกล้อง\n",
    "cap.destroyAllWindows() # ปิดหน้าต่างทั้งหมด\n"
   ]
  }
 ],
 "metadata": {
  "kernelspec": {
   "display_name": "Python 3.10.8 64-bit",
   "language": "python",
   "name": "python3"
  },
  "language_info": {
   "codemirror_mode": {
    "name": "ipython",
    "version": 3
   },
   "file_extension": ".py",
   "mimetype": "text/x-python",
   "name": "python",
   "nbconvert_exporter": "python",
   "pygments_lexer": "ipython3",
   "version": "3.10.8"
  },
  "orig_nbformat": 4,
  "vscode": {
   "interpreter": {
    "hash": "44a9cdcbdccbf05a880e90d2e6fe72470baab4d1b82472d890be0596ed887a6b"
   }
  }
 },
 "nbformat": 4,
 "nbformat_minor": 2
}
